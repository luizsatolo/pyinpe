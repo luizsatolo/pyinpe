{
 "cells": [
  {
   "cell_type": "code",
   "execution_count": null,
   "metadata": {},
   "outputs": [],
   "source": [
    "# Loading the packages\n",
    "import geopandas as gpd\n",
    "import requests\n",
    "import zipfile\n",
    "import io\n",
    "!pip install pyinpe -q -U\n",
    "import pyinpe\n",
    "from pyinpe.WFS import *\n",
    "from pyinpe.shapefile import load_shapefile\n",
    "\n",
    "import warnings\n",
    "warnings.filterwarnings(\"ignore\",category=UserWarning)"
   ]
  },
  {
   "cell_type": "code",
   "execution_count": null,
   "metadata": {},
   "outputs": [],
   "source": [
    "# Downloading a shapefile from url,\n",
    "# unzipping and printing the file names\n",
    "url = \"https://www.gov.br/icmbio/pt-br/assuntos/dados_geoespaciais/mapa-tematico-e-dados-geoestatisticos-das-unidades-de-conservacao-federais/limites_ucs_federais_22102024_a.zip\"\n",
    "r = requests.get(url)\n",
    "z = zipfile.ZipFile(io.BytesIO(r.content))\n",
    "z.extractall()\n",
    "\n",
    "filenames = [y for y in sorted(z.namelist()) for ending in ['dbf', 'prj', 'shp', 'shx'] if y.endswith(ending)]\n",
    "print(filenames)"
   ]
  },
  {
   "cell_type": "code",
   "execution_count": null,
   "metadata": {},
   "outputs": [],
   "source": [
    "# Reading the shapefile into a geopandas GeoDataFrame\n",
    "gdf = load_shapefile()\n",
    "gdf"
   ]
  },
  {
   "cell_type": "code",
   "execution_count": null,
   "metadata": {},
   "outputs": [],
   "source": [
    "# Selecting a polygon from the shapefile\n",
    "# (in this example, it's a conservation unit \n",
    "# in Tocantins, Brazil)\n",
    "polygon = gdf.geometry\n",
    "polygon"
   ]
  },
  {
   "cell_type": "code",
   "execution_count": null,
   "metadata": {},
   "outputs": [],
   "source": [
    "# Connecting to DETER Cerrado WFS\n",
    "connectDeter('Cerrado')\n",
    "\n",
    "# Getting the alerts\n",
    "df_alerts = getAlerts(spatial_filter = polygon.wkt, temporal_filter=['2018-01-01', '2021-12-31'])\n",
    "df_alerts"
   ]
  },
  {
   "cell_type": "code",
   "execution_count": null,
   "metadata": {},
   "outputs": [],
   "source": [
    "# Connecting to Queimadas WFS\n",
    "connectQueimadas()\n",
    "# Getting the fires\n",
    "df_fires = getFires(spatial_filter = polygon.wkt, temporal_filter=['2018-01-01', '2021-12-31'])\n",
    "df_fires"
   ]
  },
  {
   "cell_type": "code",
   "execution_count": null,
   "metadata": {},
   "outputs": [],
   "source": [
    "# Saving as CSV\n",
    "gdf_uc.to_file('polygon.csv')\n",
    "df_alerts.to_csv('df_alerts.csv')\n",
    "df_fires.to_csv('df_fires.csv')\n",
    "\n",
    "# Saving as SHP\n",
    "gdf_uc.to_file('polygon.shp')\n",
    "df_alerts.to_file('df_alerts.shp') \n",
    "df_fires.to_file('df_fires.shp')  "
   ]
  }
 ],
 "metadata": {
  "kernelspec": {
   "display_name": "base",
   "language": "python",
   "name": "python3"
  },
  "language_info": {
   "codemirror_mode": {
    "name": "ipython",
    "version": 3
   },
   "file_extension": ".py",
   "mimetype": "text/x-python",
   "name": "python",
   "nbconvert_exporter": "python",
   "pygments_lexer": "ipython3",
   "version": "3.11.7"
  },
  "orig_nbformat": 4
 },
 "nbformat": 4,
 "nbformat_minor": 2
}
