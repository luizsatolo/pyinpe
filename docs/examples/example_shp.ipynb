{
 "cells": [
  {
   "cell_type": "code",
   "execution_count": null,
   "metadata": {},
   "outputs": [],
   "source": [
    "# Loading the packages\n",
    "import geopandas as gpd\n",
    "!pip install pyinpe -q -U\n",
    "import pyinpe\n",
    "from pyinpe.WFS import *\n",
    "from pyinpe.shapefile import load_shapefile\n",
    "\n",
    "import warnings\n",
    "warnings.filterwarnings(\"ignore\",category=UserWarning)"
   ]
  },
  {
   "cell_type": "code",
   "execution_count": null,
   "metadata": {},
   "outputs": [],
   "source": [
    "# Loading a sample shapefile previously imported \n",
    "# to a gpd.GeoDataFrame using gpd.read_file()\n",
    "gdf = load_shapefile() # you should replace that by gpd.read_file('<your_shape_name>.zip')\n",
    "gdf"
   ]
  },
  {
   "cell_type": "code",
   "execution_count": null,
   "metadata": {},
   "outputs": [],
   "source": [
    "# Selecting a polygon from the shapefile\n",
    "# (in this example, it's a conservation unit \n",
    "# in Tocantins, Brazil)\n",
    "polygon = gdf.geometry.squeeze()\n",
    "polygon"
   ]
  },
  {
   "cell_type": "code",
   "execution_count": null,
   "metadata": {},
   "outputs": [],
   "source": [
    "# Connecting to DETER Cerrado WFS\n",
    "connectDeter('Cerrado')\n",
    "\n",
    "# Getting the alerts\n",
    "df_alerts = getAlerts(spatial_filter = polygon.wkt, temporal_filter=['2018-01-01', '2021-12-31'])\n",
    "df_alerts"
   ]
  },
  {
   "cell_type": "code",
   "execution_count": null,
   "metadata": {},
   "outputs": [],
   "source": [
    "# Connecting to Queimadas WFS\n",
    "connectQueimadas()\n",
    "# Getting the fires\n",
    "df_fires = getFires(spatial_filter = polygon.wkt, temporal_filter=['2018-01-01', '2021-12-31'])\n",
    "df_fires"
   ]
  },
  {
   "cell_type": "code",
   "execution_count": null,
   "metadata": {},
   "outputs": [],
   "source": [
    "## Saving as SHP\n",
    "#df_alerts.to_file('df_alerts.shp') \n",
    "#df_fires.to_file('df_fires.shp')  "
   ]
  }
 ],
 "metadata": {
  "kernelspec": {
   "display_name": "base",
   "language": "python",
   "name": "python3"
  },
  "language_info": {
   "codemirror_mode": {
    "name": "ipython",
    "version": 3
   },
   "file_extension": ".py",
   "mimetype": "text/x-python",
   "name": "python",
   "nbconvert_exporter": "python",
   "pygments_lexer": "ipython3",
   "version": "3.11.7"
  },
  "orig_nbformat": 4
 },
 "nbformat": 4,
 "nbformat_minor": 2
}
